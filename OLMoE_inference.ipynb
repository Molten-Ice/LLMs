{
 "cells": [
  {
   "cell_type": "code",
   "execution_count": 3,
   "metadata": {},
   "outputs": [],
   "source": [
    "prompt = \"\"\"Find the common rule that maps an input grid to an output grid, given the examples below.\n",
    "\n",
    "Example 1:\n",
    "Input:\n",
    "[[0, 0, 0, 0, 0, 5, 0, 0, 0], [0, 5, 0, 0, 0, 5, 0, 0, 0], [0, 5, 0, 0, 0, 5, 0, 0, 0], [0, 5, 0, 5, 0, 5, 0, 0, 0], [0, 5, 0, 5, 0, 5, 0, 0, 0], [0, 5, 0, 5, 0, 5, 0, 0, 0], [0, 5, 0, 5, 0, 5, 0, 5, 0], [0, 5, 0, 5, 0, 5, 0, 5, 0], [0, 5, 0, 5, 0, 5, 0, 5, 0]]\n",
    "Output:\n",
    "[[0, 0, 0, 0, 0, 1, 0, 0, 0], [0, 2, 0, 0, 0, 1, 0, 0, 0], [0, 2, 0, 0, 0, 1, 0, 0, 0], [0, 2, 0, 3, 0, 1, 0, 0, 0], [0, 2, 0, 3, 0, 1, 0, 0, 0], [0, 2, 0, 3, 0, 1, 0, 0, 0], [0, 2, 0, 3, 0, 1, 0, 4, 0], [0, 2, 0, 3, 0, 1, 0, 4, 0], [0, 2, 0, 3, 0, 1, 0, 4, 0]]\n",
    "Example 2:\n",
    "Input:\n",
    "[[0, 0, 0, 0, 0, 0, 0, 0, 0], [0, 0, 0, 0, 0, 0, 0, 5, 0], [0, 0, 0, 0, 0, 0, 0, 5, 0], [0, 0, 0, 0, 0, 0, 0, 5, 0], [0, 0, 0, 5, 0, 0, 0, 5, 0], [0, 0, 0, 5, 0, 5, 0, 5, 0], [0, 0, 0, 5, 0, 5, 0, 5, 0], [0, 5, 0, 5, 0, 5, 0, 5, 0], [0, 5, 0, 5, 0, 5, 0, 5, 0]]\n",
    "Output:\n",
    "[[0, 0, 0, 0, 0, 0, 0, 0, 0], [0, 0, 0, 0, 0, 0, 0, 1, 0], [0, 0, 0, 0, 0, 0, 0, 1, 0], [0, 0, 0, 0, 0, 0, 0, 1, 0], [0, 0, 0, 2, 0, 0, 0, 1, 0], [0, 0, 0, 2, 0, 3, 0, 1, 0], [0, 0, 0, 2, 0, 3, 0, 1, 0], [0, 4, 0, 2, 0, 3, 0, 1, 0], [0, 4, 0, 2, 0, 3, 0, 1, 0]]\n",
    "\n",
    "Below is a test input grid. Predict the corresponding output grid by applying the rule you found. Your final answer should just be the text output grid itself.\n",
    "\n",
    "Input:\n",
    "[[0, 0, 0, 0, 0, 0, 0, 0, 0], [0, 5, 0, 0, 0, 0, 0, 0, 0], [0, 5, 0, 0, 0, 5, 0, 0, 0], [0, 5, 0, 0, 0, 5, 0, 0, 0], [0, 5, 0, 0, 0, 5, 0, 5, 0], [0, 5, 0, 0, 0, 5, 0, 5, 0], [0, 5, 0, 5, 0, 5, 0, 5, 0], [0, 5, 0, 5, 0, 5, 0, 5, 0], [0, 5, 0, 5, 0, 5, 0, 5, 0]]\n",
    "\"\"\""
   ]
  },
  {
   "cell_type": "code",
   "execution_count": 4,
   "metadata": {},
   "outputs": [
    {
     "name": "stderr",
     "output_type": "stream",
     "text": [
      "Loading checkpoint shards: 100%|██████████| 3/3 [00:04<00:00,  1.41s/it]\n"
     ]
    },
    {
     "name": "stdout",
     "output_type": "stream",
     "text": [
      "<|endoftext|><|user|>\n",
      "Find the common rule that maps an input grid to an output grid, given the examples below.\n",
      "\n",
      "Example 1:\n",
      "Input:\n",
      "[[0, 0, 0, 0, 0, 5, 0, 0, 0], [0, 5, 0, 0, 0, 5, 0, 0, 0], [0, 5, 0, 0, 0, 5, 0, 0, 0], [0, 5, 0, 5, 0, 5, 0, 0, 0], [0, 5, 0, 5, 0, 5, 0, 0, 0], [0, 5, 0, 5, 0, 5, 0, 0, 0], [0, 5, 0, 5, 0, 5, 0, 5, 0], [0, 5, 0, 5, 0, 5, 0, 5, 0], [0, 5, 0, 5, 0, 5, 0, 5, 0]]\n",
      "Output:\n",
      "[[0, 0, 0, 0, 0, 1, 0, 0, 0], [0, 2, 0, 0, 0, 1, 0, 0, 0], [0, 2, 0, 0, 0, 1, 0, 0, 0], [0, 2, 0, 3, 0, 1, 0, 0, 0], [0, 2, 0, 3, 0, 1, 0, 0, 0], [0, 2, 0, 3, 0, 1, 0, 0, 0], [0, 2, 0, 3, 0, 1, 0, 4, 0], [0, 2, 0, 3, 0, 1, 0, 4, 0], [0, 2, 0, 3, 0, 1, 0, 4, 0]]\n",
      "Example 2:\n",
      "Input:\n",
      "[[0, 0, 0, 0, 0, 0, 0, 0, 0], [0, 0, 0, 0, 0, 0, 0, 5, 0], [0, 0, 0, 0, 0, 0, 0, 5, 0], [0, 0, 0, 0, 0, 0, 0, 5, 0], [0, 0, 0, 5, 0, 0, 0, 5, 0], [0, 0, 0, 5, 0, 5, 0, 5, 0], [0, 0, 0, 5, 0, 5, 0, 5, 0], [0, 5, 0, 5, 0, 5, 0, 5, 0], [0, 5, 0, 5, 0, 5, 0, 5, 0]]\n",
      "Output:\n",
      "[[0, 0, 0, 0, 0, 0, 0, 0, 0], [0, 0, 0, 0, 0, 0, 0, 1, 0], [0, 0, 0, 0, 0, 0, 0, 1, 0], [0, 0, 0, 0, 0, 0, 0, 1, 0], [0, 0, 0, 2, 0, 0, 0, 1, 0], [0, 0, 0, 2, 0, 3, 0, 1, 0], [0, 0, 0, 2, 0, 3, 0, 1, 0], [0, 4, 0, 2, 0, 3, 0, 1, 0], [0, 4, 0, 2, 0, 3, 0, 1, 0]]\n",
      "\n",
      "Below is a test input grid. Predict the corresponding output grid by applying the rule you found. Your final answer should just be the text output grid itself.\n",
      "\n",
      "Input:\n",
      "[[0, 0, 0, 0, 0, 0, 0, 0, 0], [0, 5, 0, 0, 0, 0, 0, 0, 0], [0, 5, 0, 0, 0, 5, 0, 0, 0], [0, 5, 0, 0, 0, 5, 0, 0, 0], [0, 5, 0, 0, 0, 5, 0, 5, 0], [0, 5, 0, 0, 0, 5, 0, 5, 0], [0, 5, 0, 5, 0, 5, 0, 5, 0], [0, 5, 0, 5, 0, 5, 0, 5, 0], [0, 5, 0, 5, 0, 5, 0, 5, 0]]\n",
      "\n",
      "<|assistant|>\n",
      "To find the common rule that maps the input grid to the output grid, we can observe that the output grid is obtained by applying a series of operations to the input grid:\n",
      "\n",
      "1. Replace all values of 0 with 1.\n",
      "2. Replace all values of 5 with 2.\n",
      "3. Replace all values of 0 with 3.\n",
      "4. Replace all values of 2 with 4.\n",
      "\n",
      "Using this rule, we can write a Python function to generate the corresponding output grid for any given input grid. Here's the code:\n",
      "\n",
      "```python\n",
      "def generate_output_grid(input_grid):\n",
      "    output_grid = [[0 for _ in range(len(input_grid[0]))] for _ in range(len(input_grid))]\n",
      "    \n",
      "    for i in range(len(input_grid)):\n",
      "        for j in range(len(input_grid[0])):\n",
      "            if input_grid[i][j] == 0:\n",
      "                output_grid[i][j] = 1\n",
      "            elif input_grid[i][j] == 5:\n",
      "                output_grid[i][j] = 2\n",
      "            elif input_grid[\n"
     ]
    }
   ],
   "source": [
    "from transformers import OlmoeForCausalLM, AutoTokenizer\n",
    "import torch\n",
    "\n",
    "DEVICE = \"cuda\" if torch.cuda.is_available() else \"cpu\"\n",
    "\n",
    "# Load different ckpts via passing e.g. `revision=kto`\n",
    "model = OlmoeForCausalLM.from_pretrained(\"allenai/OLMoE-1B-7B-0924-Instruct\").to(DEVICE)\n",
    "tokenizer = AutoTokenizer.from_pretrained(\"allenai/OLMoE-1B-7B-0924-Instruct\")\n",
    "# messages = [{\"role\": \"user\", \"content\": \"Explain to me like I'm five what is Bitcoin.\"}]\n",
    "messages = [{\"role\": \"user\", \"content\": prompt}]\n",
    "inputs = tokenizer.apply_chat_template(messages, tokenize=True, add_generation_prompt=True, return_tensors=\"pt\").to(DEVICE)\n",
    "out = model.generate(inputs, max_length=1200)\n",
    "print(tokenizer.decode(out[0]))\n"
   ]
  },
  {
   "cell_type": "code",
   "execution_count": null,
   "metadata": {},
   "outputs": [],
   "source": []
  },
  {
   "cell_type": "code",
   "execution_count": null,
   "metadata": {},
   "outputs": [],
   "source": []
  },
  {
   "cell_type": "code",
   "execution_count": null,
   "metadata": {},
   "outputs": [],
   "source": [
    "\"\"\"\n",
    "<|endoftext|><|user|>\n",
    "Explain to me like I'm five what is Bitcoin.\n",
    "<|assistant|>\n",
    "Bitcoin is like a special kind of money that you can use to buy things online. But unlike regular money, like dollars or euros, Bitcoin isn't printed by governments or banks. Instead, it's created by a special computer program that helps people keep track of it.\n",
    "\n",
    "Here's how it works: imagine you have a bunch of toys, and you want to\n",
    "\"\"\""
   ]
  }
 ],
 "metadata": {
  "kernelspec": {
   "display_name": "Python 3 (ipykernel)",
   "language": "python",
   "name": "python3"
  },
  "language_info": {
   "codemirror_mode": {
    "name": "ipython",
    "version": 3
   },
   "file_extension": ".py",
   "mimetype": "text/x-python",
   "name": "python",
   "nbconvert_exporter": "python",
   "pygments_lexer": "ipython3",
   "version": "3.10.12"
  }
 },
 "nbformat": 4,
 "nbformat_minor": 2
}
